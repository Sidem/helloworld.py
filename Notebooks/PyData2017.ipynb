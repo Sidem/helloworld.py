{
 "cells": [
  {
   "cell_type": "code",
   "execution_count": 4,
   "metadata": {},
   "outputs": [
    {
     "data": {
      "text/plain": [
       "Polynomial(*(4, 6, 6))"
      ]
     },
     "execution_count": 4,
     "metadata": {},
     "output_type": "execute_result"
    }
   ],
   "source": [
    "# Data Model Methods https://docs.python.org/3/reference/datamodel.html\n",
    "\n",
    "class Polynomial:\n",
    "    def __init__(self, *coeffs):\n",
    "        self.coeffs = coeffs\n",
    "\n",
    "    def __repr__(self):\n",
    "        return 'Polynomial(*{!r})'.format(self.coeffs)\n",
    "        \n",
    "    def __add__(self, other):\n",
    "        return Polynomial(*(a+b for a, b in zip(self.coeffs, other.coeffs)))\n",
    "    \n",
    "p1 = Polynomial(1, 2, 3)\n",
    "p2 = Polynomial(3, 4, 3)\n",
    "\n",
    "p1+p2"
   ]
  },
  {
   "cell_type": "code",
   "execution_count": 11,
   "metadata": {},
   "outputs": [
    {
     "data": {
      "text/plain": [
       "'foo'"
      ]
     },
     "execution_count": 11,
     "metadata": {},
     "output_type": "execute_result"
    }
   ],
   "source": [
    "#metaclasses\n",
    "class Base:\n",
    "    def foo(self):\n",
    "        return 'foo'\n",
    "\n",
    "assert hasattr(Base, 'foo'), 'Broken'\n",
    "    \n",
    "class Derived(Base):\n",
    "    def bar(self):\n",
    "        return self.foo()\n",
    "    \n",
    "p1 = Derived()\n",
    "\n",
    "p1.bar()"
   ]
  },
  {
   "cell_type": "code",
   "execution_count": 29,
   "metadata": {},
   "outputs": [
    {
     "name": "stdout",
     "output_type": "stream",
     "text": [
      "elapsed 1.3310761451721191\n"
     ]
    },
    {
     "data": {
      "text/plain": [
       "200000020"
      ]
     },
     "execution_count": 29,
     "metadata": {},
     "output_type": "execute_result"
    }
   ],
   "source": [
    "from time import time\n",
    "\n",
    "def timeit(func):\n",
    "    def wrapper(*args, **kwargs):\n",
    "        before = time()\n",
    "        rv = func(*args, **kwargs)\n",
    "        after = time()\n",
    "        print('elapsed', after - before)\n",
    "        return rv\n",
    "    return wrapper\n",
    "    \n",
    "@timeit\n",
    "def add(x, y=10):\n",
    "    for _ in range(20000000):\n",
    "        x = y + x\n",
    "    return x + y\n",
    "\n",
    "add(10)"
   ]
  },
  {
   "cell_type": "code",
   "execution_count": 13,
   "metadata": {},
   "outputs": [
    {
     "data": {
      "text/plain": [
       "30"
      ]
     },
     "execution_count": 13,
     "metadata": {},
     "output_type": "execute_result"
    }
   ],
   "source": [
    "add(10, 20)"
   ]
  },
  {
   "cell_type": "code",
   "execution_count": 14,
   "metadata": {},
   "outputs": [
    {
     "data": {
      "text/plain": [
       "'add'"
      ]
     },
     "execution_count": 14,
     "metadata": {},
     "output_type": "execute_result"
    }
   ],
   "source": [
    "add.__name__"
   ]
  },
  {
   "cell_type": "code",
   "execution_count": 15,
   "metadata": {},
   "outputs": [
    {
     "ename": "AttributeError",
     "evalue": "'code' object has no attribute 'co_'",
     "output_type": "error",
     "traceback": [
      "\u001b[1;31m---------------------------------------------------------------------------\u001b[0m",
      "\u001b[1;31mAttributeError\u001b[0m                            Traceback (most recent call last)",
      "\u001b[1;32m<ipython-input-15-e79b4eeaf728>\u001b[0m in \u001b[0;36m<module>\u001b[1;34m()\u001b[0m\n\u001b[1;32m----> 1\u001b[1;33m \u001b[0madd\u001b[0m\u001b[1;33m.\u001b[0m\u001b[0m__code__\u001b[0m\u001b[1;33m.\u001b[0m\u001b[0mco_\u001b[0m\u001b[1;33m\u001b[0m\u001b[0m\n\u001b[0m",
      "\u001b[1;31mAttributeError\u001b[0m: 'code' object has no attribute 'co_'"
     ]
    }
   ],
   "source": [
    "add.__code__.co_"
   ]
  },
  {
   "cell_type": "code",
   "execution_count": 16,
   "metadata": {},
   "outputs": [
    {
     "data": {
      "text/plain": [
       "'<ipython-input-12-c205d38aa98a>'"
      ]
     },
     "execution_count": 16,
     "metadata": {},
     "output_type": "execute_result"
    }
   ],
   "source": [
    "add.__code__.co_filename"
   ]
  },
  {
   "cell_type": "code",
   "execution_count": 19,
   "metadata": {},
   "outputs": [
    {
     "name": "stdout",
     "output_type": "stream",
     "text": [
      "add(10) 20\n",
      "add(\"a\", \"b\") ab\n"
     ]
    }
   ],
   "source": [
    "print('add(10)', add(10))\n",
    "print('add(\"a\", \"b\")', add(\"a\", \"b\"))"
   ]
  },
  {
   "cell_type": "code",
   "execution_count": 20,
   "metadata": {
    "collapsed": true
   },
   "outputs": [],
   "source": [
    "from time import time"
   ]
  },
  {
   "cell_type": "code",
   "execution_count": null,
   "metadata": {
    "collapsed": true
   },
   "outputs": [],
   "source": []
  }
 ],
 "metadata": {
  "kernelspec": {
   "display_name": "Python 3",
   "language": "python",
   "name": "python3"
  },
  "language_info": {
   "codemirror_mode": {
    "name": "ipython",
    "version": 3
   },
   "file_extension": ".py",
   "mimetype": "text/x-python",
   "name": "python",
   "nbconvert_exporter": "python",
   "pygments_lexer": "ipython3",
   "version": "3.6.2"
  }
 },
 "nbformat": 4,
 "nbformat_minor": 2
}
